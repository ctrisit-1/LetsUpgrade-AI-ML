{
 "cells": [
  {
   "cell_type": "markdown",
   "metadata": {},
   "source": [
    "#  DAY 5 Assignment   `10-JULY-2020`"
   ]
  },
  {
   "cell_type": "markdown",
   "metadata": {},
   "source": [
    "### Q1: Write a Python program to find the first 20 non-even prime natural numbers."
   ]
  },
  {
   "cell_type": "code",
   "execution_count": 35,
   "metadata": {},
   "outputs": [
    {
     "name": "stdout",
     "output_type": "stream",
     "text": [
      "The first 20 non-even prime natural numbers: \n",
      " [3, 5, 7, 11, 13, 17, 19, 23, 29, 31, 37, 41, 43, 47, 53, 59, 61, 67, 71, 73]\n"
     ]
    }
   ],
   "source": [
    "cnt = 0 # To limit to 20 numbers\n",
    "num = 0 # To use as the number to check for Prime\n",
    "list_prime = [] # To create the list of Primes\n",
    "\n",
    "while cnt<20:\n",
    "    num = num + 1\n",
    "    if num > 1: \n",
    "        for n in range(2, num//2 + 2): \n",
    "            if (num % n) == 0: \n",
    "                break\n",
    "            else: \n",
    "                if n == num//2 + 1: \n",
    "                    list_prime.append(num) \n",
    "                    cnt+=1\n",
    "\n",
    "print(\"The first 20 non-even prime natural numbers: \\n\" , list_prime)\n"
   ]
  },
  {
   "cell_type": "markdown",
   "metadata": {},
   "source": [
    "### Q2: Write a Python program to implement 15 functions of string."
   ]
  },
  {
   "cell_type": "code",
   "execution_count": 35,
   "metadata": {},
   "outputs": [
    {
     "name": "stdout",
     "output_type": "stream",
     "text": [
      "After capitalization \n",
      " This is a course on ai-ml from letsupgrade. course started on 6th july\n",
      "Conversion to lowercase :  \n",
      " this is a course on ai-ml from letsupgrade. course started on 6th july\n",
      "Length of the string is  \n",
      " 70\n",
      "String after swapcase is :  \n",
      " tHIS IS A COURSE ON ai-ml FROM lETSuPgRADE. coURSE STARTED ON 6TH jULY\n",
      "THIS IS A COURSE ON AI-ML FROM LETSUPGRADE. COURSE STARTED ON 6TH JULY\n",
      "Is string Alphabetic?  \n",
      " False\n",
      "Is string Alphabetic?  \n",
      " False\n",
      "Is string lower?  \n",
      " False\n",
      "Is string numeric?  \n",
      " False\n",
      "Is string only white space?  \n",
      " False\n",
      "Is string only upper case?  \n",
      " False\n",
      "After conversion to titlecasing  \n",
      " This Is A Course On Ai-Ml From Letsupgrade. Course Started On 6Th July\n",
      "Concatenated string: \n",
      "  This_is_Python\n",
      "Reversed and joined & Capitalized string: \n",
      "  Python_is_this\n",
      "Replaced string: \n",
      "  I love C++\n"
     ]
    }
   ],
   "source": [
    "a=\"This is a course on AI-ML from LetsUpGrade. COurse started on 6th July\"\n",
    "\n",
    "# Capitalize\n",
    "b=a.capitalize()\n",
    "print(\"After capitalization \\n\", b)\n",
    "\n",
    "# Convert to lower case\n",
    "b=a.lower()\n",
    "print(\"Conversion to lowercase :  \\n\", b)\n",
    "\n",
    "# Calculate Length\n",
    "b=len(a)\n",
    "print(\"Length of the string is  \\n\", b)\n",
    "\n",
    "# Swap case of the string\n",
    "b=a.swapcase()\n",
    "print(\"String after swapcase is :  \\n\", b)\n",
    "\n",
    "# Convert string to upper\n",
    "b=a.upper()\n",
    "print(b)\n",
    "\n",
    "# Check if input is alphanumeric\n",
    "b=a.isalnum()\n",
    "print(\"Is string Alphabetic?  \\n\", b)\n",
    "\n",
    "# Check if input is alphabetic\n",
    "b=a.isalpha()\n",
    "print(\"Is string Alphabetic?  \\n\", b)\n",
    "\n",
    "# Check if string is lower\n",
    "b=a.islower()\n",
    "print(\"Is string lower?  \\n\", b)\n",
    "\n",
    "# Check if string is numeric\n",
    "b=a.isnumeric()\n",
    "print(\"Is string numeric?  \\n\", b)\n",
    "\n",
    "# Check if string is space\n",
    "b=a.isspace()\n",
    "print(\"Is string only white space?  \\n\", b)\n",
    "\n",
    "# Check if Upper Case\n",
    "b=a.isupper()\n",
    "print(\"Is string only upper case?  \\n\", b)\n",
    "\n",
    "# Convert to title-case\n",
    "b=a.title()\n",
    "print(\"After conversion to titlecasing  \\n\", b)\n",
    "\n",
    "# Concatenate string with _\n",
    "b=\"_\".join([\"This\", \"is\", \"Python\"])\n",
    "print(\"Concatenated string: \\n \", b)\n",
    "\n",
    "# Reverse the string and join each string with a character\n",
    "b=\"_\".join(reversed([\"This\", \"is\", \"Python\"])).capitalize()\n",
    "print(\"Reversed and joined & Capitalized string: \\n \", b)\n",
    "\n",
    "# Replace\n",
    "a = str(\"I love Python\")\n",
    "b=a.replace('Python','C++')\n",
    "print(\"Replaced string: \\n \", b)"
   ]
  },
  {
   "cell_type": "markdown",
   "metadata": {},
   "source": [
    "### Q3: Write a Python program to check if the given string is a Palindrome or Anagram or None of them. Display the message accordingly to the user."
   ]
  },
  {
   "cell_type": "code",
   "execution_count": 54,
   "metadata": {},
   "outputs": [
    {
     "name": "stdout",
     "output_type": "stream",
     "text": [
      "Enter the First string : \n",
      "Mam\n",
      "Enter the Second string : \n",
      "corona\n",
      " First String is a Palindrome.\n",
      " Second String is not a Palindrome.\n",
      " Both strings are not an anagram of each other.\n"
     ]
    }
   ],
   "source": [
    "def ispalindrome(n):\n",
    "    if n == n[::-1]:\n",
    "        return True\n",
    "    return False\n",
    "def isanagram(m,n):\n",
    "    if sorted(m)==sorted(n):\n",
    "        return True\n",
    "    return False\n",
    "\n",
    "\n",
    "flag_none =True\n",
    "\n",
    "s1 = str(input(\"Enter the First string : \\n\")).lower()\n",
    "s2 = str(input(\"Enter the Second string : \\n\")).lower()\n",
    "s1 = \"\".join(s1.split())\n",
    "s2 = \"\".join(s2.split())\n",
    "\n",
    "if ispalindrome(s1):\n",
    "    pal1 = \"a Palindrome\"\n",
    "    flag_none = False\n",
    "else : \n",
    "    pal1 = \"not a Palindrome\"\n",
    "if ispalindrome(s2):\n",
    "    pal2 = \"a Palindrome\"\n",
    "    flag_none = False\n",
    "else : \n",
    "    pal2 = \"not a Palindrome\"\n",
    "if isanagram(s1,s2): \n",
    "    ana = \"an anagram\"\n",
    "    flag_none = False\n",
    "else : \n",
    "    ana = \"not an anagram\"\n",
    "    \n",
    "if flag_none == True:\n",
    "    print(\"Words are neither palindrome and nor Anagram\")\n",
    "else: \n",
    "    print(\" First String is \"+pal1+\".\\n Second String is \"+pal2+\".\\n Both strings are \"+ana+\" of each other.\")"
   ]
  },
  {
   "cell_type": "markdown",
   "metadata": {},
   "source": [
    "### Q4: Write a Python's user defined function that removes all the additional characters from the string and converts it finally to lower case using built-in lower(). eg: If the string is \"Dr. Darshan Ingle @AI-ML Trainer\", then the output be \"drdarshaningle aimltrainer\"."
   ]
  },
  {
   "cell_type": "code",
   "execution_count": 50,
   "metadata": {},
   "outputs": [
    {
     "name": "stdout",
     "output_type": "stream",
     "text": [
      "Enter a string: 1Day@cRicket\n",
      "daycricket\n"
     ]
    }
   ],
   "source": [
    "def convert(string):\n",
    "    val=\"\"\n",
    "    for i in string:\n",
    "        if i.isalpha():\n",
    "            val+=i\n",
    "    return val.lower()\n",
    "\n",
    "str1 =input(\"Enter a string: \")\n",
    "print(convert(str1))"
   ]
  },
  {
   "cell_type": "markdown",
   "metadata": {},
   "source": [
    "` THIS IS THE END OF THE DAY 5 ASSIGNMENT `"
   ]
  }
 ],
 "metadata": {
  "kernelspec": {
   "display_name": "Python 3",
   "language": "python",
   "name": "python3"
  },
  "language_info": {
   "codemirror_mode": {
    "name": "ipython",
    "version": 3
   },
   "file_extension": ".py",
   "mimetype": "text/x-python",
   "name": "python",
   "nbconvert_exporter": "python",
   "pygments_lexer": "ipython3",
   "version": "3.7.7"
  }
 },
 "nbformat": 4,
 "nbformat_minor": 4
}
