{
 "cells": [
  {
   "cell_type": "markdown",
   "metadata": {},
   "source": [
    "# 1. Create a 3x3x3 array with random values "
   ]
  },
  {
   "cell_type": "code",
   "execution_count": 2,
   "metadata": {},
   "outputs": [],
   "source": [
    "import numpy as np"
   ]
  },
  {
   "cell_type": "code",
   "execution_count": 10,
   "metadata": {},
   "outputs": [
    {
     "data": {
      "text/plain": [
       "array([[[0.90348725, 0.01013082, 0.08484723],\n",
       "        [0.31072155, 0.50854562, 0.59910784],\n",
       "        [0.6182289 , 0.31277156, 0.7007302 ]],\n",
       "\n",
       "       [[0.60794387, 0.83799955, 0.75194631],\n",
       "        [0.38831019, 0.47175637, 0.52912298],\n",
       "        [0.80173742, 0.06888663, 0.54138909]],\n",
       "\n",
       "       [[0.40962869, 0.08019081, 0.18396088],\n",
       "        [0.03623542, 0.1042663 , 0.63390427],\n",
       "        [0.5549207 , 0.60516135, 0.01487282]]])"
      ]
     },
     "execution_count": 10,
     "metadata": {},
     "output_type": "execute_result"
    }
   ],
   "source": [
    "ran = np.random.random([3,3,3])\n",
    "ran"
   ]
  },
  {
   "cell_type": "markdown",
   "metadata": {},
   "source": [
    "# 2.Create a 5x5 matrix with values 1,2,3,4 just below the diagonal"
   ]
  },
  {
   "cell_type": "code",
   "execution_count": 11,
   "metadata": {},
   "outputs": [
    {
     "data": {
      "text/plain": [
       "array([[1, 0, 0, 0, 0],\n",
       "       [0, 2, 0, 0, 0],\n",
       "       [0, 0, 3, 0, 0],\n",
       "       [0, 0, 0, 4, 0],\n",
       "       [0, 0, 0, 0, 5]])"
      ]
     },
     "execution_count": 11,
     "metadata": {},
     "output_type": "execute_result"
    }
   ],
   "source": [
    "x = np.diag([1,2,3,4,5])\n",
    "x"
   ]
  },
  {
   "cell_type": "markdown",
   "metadata": {},
   "source": [
    "# 3.Create a 8x8 matrix and fill it with a checkerboard pattern"
   ]
  },
  {
   "cell_type": "code",
   "execution_count": 64,
   "metadata": {},
   "outputs": [
    {
     "name": "stdout",
     "output_type": "stream",
     "text": [
      "Checkerboard pattern:\n",
      "0 1 0 1 0 1 0 1 \n",
      "1 0 1 0 1 0 1 0 \n",
      "0 1 0 1 0 1 0 1 \n",
      "1 0 1 0 1 0 1 0 \n",
      "0 1 0 1 0 1 0 1 \n",
      "1 0 1 0 1 0 1 0 \n",
      "0 1 0 1 0 1 0 1 \n",
      "1 0 1 0 1 0 1 0 \n"
     ]
    }
   ],
   "source": [
    "# function to print Checkerboard pattern \n",
    "def printcheckboard(n): \n",
    "      \n",
    "    print(\"Checkerboard pattern:\") \n",
    "  \n",
    "    # create a n * n matrix \n",
    "    x = np.zeros((n, n), dtype = int) \n",
    "  \n",
    "    # fill with 1 the alternate rows and columns \n",
    "    x[1::2, ::2] = 1\n",
    "    x[::2, 1::2] = 1\n",
    "      \n",
    "    # print the pattern \n",
    "    for i in range(n): \n",
    "        for j in range(n): \n",
    "            print(x[i][j], end =\" \")  \n",
    "        print()  \n",
    "\n",
    "# 8X8 Checkerboard    \n",
    "n = 8\n",
    "printcheckboard(n)"
   ]
  },
  {
   "cell_type": "markdown",
   "metadata": {},
   "source": [
    "# 4. Normalize a 5x5 random matrix"
   ]
  },
  {
   "cell_type": "code",
   "execution_count": 17,
   "metadata": {},
   "outputs": [
    {
     "name": "stdout",
     "output_type": "stream",
     "text": [
      "Original matrix: \n",
      " [[0.15056906 0.66311308 0.07500453 0.5319588  0.27450237]\n",
      " [0.43340844 0.8449982  0.8950412  0.70677257 0.11159101]\n",
      " [0.65253028 0.20313665 0.8678062  0.32770492 0.4084093 ]\n",
      " [0.04560096 0.51861889 0.88110651 0.26324411 0.07939307]\n",
      " [0.13766947 0.11832585 0.39529164 0.11582065 0.59247142]]\n"
     ]
    }
   ],
   "source": [
    "Z = np.random.random((5,5))\n",
    "print(\"Original matrix: \\n\", Z)\n",
    "Zmax,Zmin = Z.max(), Z.min()\n",
    "Z = (Z - Zmin)/(Zmax - Zmin)"
   ]
  },
  {
   "cell_type": "code",
   "execution_count": 18,
   "metadata": {},
   "outputs": [
    {
     "name": "stdout",
     "output_type": "stream",
     "text": [
      "Normalized matrix: \n",
      " [[0.12357326 0.72696358 0.03461523 0.57256275 0.26947324]\n",
      " [0.45654475 0.94108708 1.         0.77836153 0.07768651]\n",
      " [0.71450503 0.18545824 0.96793771 0.33210571 0.42711461]\n",
      " [0.         0.55685839 0.98359544 0.2562195  0.03978162]\n",
      " [0.10838727 0.08561508 0.4116719  0.08266584 0.64380098]]\n"
     ]
    }
   ],
   "source": [
    "print(\"Normalized matrix: \\n\", Z)"
   ]
  },
  {
   "cell_type": "markdown",
   "metadata": {},
   "source": [
    "# 5.  How to find common values between two arrays?"
   ]
  },
  {
   "cell_type": "code",
   "execution_count": 19,
   "metadata": {},
   "outputs": [
    {
     "name": "stdout",
     "output_type": "stream",
     "text": [
      "Array a:  [11 22 55 77 45 65 68]\n",
      "Array b:  [12 55 44 77 89 36 25 15]\n",
      "Common values between two arrays are:\n",
      "[55 77]\n"
     ]
    }
   ],
   "source": [
    "a = np.array([211,22,55,77,45,65,68])\n",
    "print(\"Array a: \",a)\n",
    "      \n",
    "      \n",
    "b = np.array([12,55,44,77,89,36,25,15])\n",
    "print(\"Array b: \",b)\n",
    "      \n",
    "      \n",
    "print(\"Common values between two arrays are:\")\n",
    "print(np.intersect1d(a, b))"
   ]
  },
  {
   "cell_type": "markdown",
   "metadata": {},
   "source": [
    "# 6.How to get the dates of yesterday, today and tomorrow?"
   ]
  },
  {
   "cell_type": "code",
   "execution_count": 21,
   "metadata": {},
   "outputs": [
    {
     "name": "stdout",
     "output_type": "stream",
     "text": [
      "Yestraday: \n",
      " 2020-07-24\n",
      "Today: \n",
      " 2020-07-25\n",
      "Tomorrow: \n",
      " 2020-07-26\n"
     ]
    }
   ],
   "source": [
    "yesterday = np.datetime64('today', 'D') - np.timedelta64(1, 'D')\n",
    "print(\"Yestraday: \\n\",yesterday)\n",
    "\n",
    "today = np.datetime64('today', 'D')\n",
    "print(\"Today: \\n\",today)\n",
    "\n",
    "tomorrow = np.datetime64('today', 'D') + np.timedelta64(1, 'D')\n",
    "print(\"Tomorrow: \\n\",tomorrow)"
   ]
  },
  {
   "cell_type": "markdown",
   "metadata": {},
   "source": [
    "# 7. Consider two random array A and B, check if they are equal"
   ]
  },
  {
   "cell_type": "code",
   "execution_count": 23,
   "metadata": {},
   "outputs": [
    {
     "name": "stdout",
     "output_type": "stream",
     "text": [
      "First array:\n",
      "[4 1 0 1 1 1 3 2 1 1]\n",
      "Second array:\n",
      "[2 2 1 4 3 4 2 1 0 1]\n",
      "Test above two arrays are equal or not!\n",
      "False\n"
     ]
    }
   ],
   "source": [
    "a = np.random.randint(0,5,10)\n",
    "print(\"First array:\")\n",
    "print(a)\n",
    "\n",
    "b = np.random.randint(0,5,10)\n",
    "print(\"Second array:\")\n",
    "print(b)\n",
    "\n",
    "print(\"Test above two arrays are equal or not!\")\n",
    "equal = np.allclose(a, b)\n",
    "print(equal)"
   ]
  },
  {
   "cell_type": "markdown",
   "metadata": {},
   "source": [
    "# 8.Create random vector of size 10 and replace the maximum value by 0 "
   ]
  },
  {
   "cell_type": "code",
   "execution_count": 24,
   "metadata": {},
   "outputs": [
    {
     "name": "stdout",
     "output_type": "stream",
     "text": [
      "Array: \n",
      "[0.69736083 0.20496561 0.90379981 0.61620248 0.8147367  0.35248903\n",
      " 0.46247372 0.6411389  0.49970052 0.97395163]\n",
      "Maximum value replaced by 0:\n",
      "[0.69736083 0.20496561 0.90379981 0.61620248 0.8147367  0.35248903\n",
      " 0.46247372 0.6411389  0.49970052 0.        ]\n"
     ]
    }
   ],
   "source": [
    "a = np.random.random(10)\n",
    "print(\"Array: \")\n",
    "print(a)\n",
    "\n",
    "a[a.argmax()] = 0\n",
    "print(\"Maximum value replaced by 0:\")\n",
    "print(a)"
   ]
  },
  {
   "cell_type": "markdown",
   "metadata": {},
   "source": [
    "# 9. How to print all the values of an array?"
   ]
  },
  {
   "cell_type": "code",
   "execution_count": 29,
   "metadata": {},
   "outputs": [
    {
     "name": "stdout",
     "output_type": "stream",
     "text": [
      "0 1 2 3 4 5 6 7 8 9 10 11 12 13 14 15 16 17 18 19 20 21 22 23 24 25 26 27 28 29 30 31 32 33 34 35 36 37 38 39 40 41 42 43 44 45 46 47 48 49 50 51 52 53 54 55 56 57 58 59 60 61 62 63 64 65 66 67 68 69 70 71 72 73 74 75 76 77 78 79 80 81 82 83 84 85 86 87 88 89 90 91 92 93 94 95 96 97 98 99\n"
     ]
    }
   ],
   "source": [
    "\n",
    "a = np.arange(100)\n",
    "\n",
    "print(*a)"
   ]
  },
  {
   "cell_type": "markdown",
   "metadata": {},
   "source": [
    "# 10.Subtract the mean of each row of a matrix"
   ]
  },
  {
   "cell_type": "code",
   "execution_count": 30,
   "metadata": {},
   "outputs": [
    {
     "name": "stdout",
     "output_type": "stream",
     "text": [
      "Matrix: \n",
      "[[98 84 84 59 13]\n",
      " [56 51 31 92 44]]\n",
      "\n",
      "Subtract the mean of each row of the said matrix:\n",
      "\n",
      "[[ 30.4  16.4  16.4  -8.6 -54.6]\n",
      " [  1.2  -3.8 -23.8  37.2 -10.8]]\n"
     ]
    }
   ],
   "source": [
    "print(\"Matrix: \")\n",
    "a = np.random.randint(0,100,10).reshape([2,5])\n",
    "print(a)\n",
    "print(\"\\nSubtract the mean of each row of the said matrix:\\n\")\n",
    "b = a - a.mean(axis=1, keepdims=True)\n",
    "print(b)"
   ]
  },
  {
   "cell_type": "markdown",
   "metadata": {},
   "source": [
    "# 11.Consider a given vector, how to add 1 to each element indexed by a second vector (be careful with repeated indices)? "
   ]
  },
  {
   "cell_type": "code",
   "execution_count": 31,
   "metadata": {},
   "outputs": [
    {
     "name": "stdout",
     "output_type": "stream",
     "text": [
      "Original vector [1. 1. 1. 1. 1.]\n",
      "Index vector [3 4 3 2 0 3 2 1 1 4]\n",
      "Updated vector [2. 3. 3. 4. 3.]\n"
     ]
    }
   ],
   "source": [
    "a = np.ones(5)\n",
    "print(\"Original vector\", a)\n",
    "\n",
    "b = np.random.randint(0,len(a),10)\n",
    "print(\"Index vector\", b)\n",
    "\n",
    "a += np.bincount(b, minlength=len(a))\n",
    "print(\"Updated vector\", a)"
   ]
  },
  {
   "cell_type": "markdown",
   "metadata": {},
   "source": [
    "# 12.How to get the diagonal of a dot product?"
   ]
  },
  {
   "cell_type": "code",
   "execution_count": 32,
   "metadata": {},
   "outputs": [
    {
     "name": "stdout",
     "output_type": "stream",
     "text": [
      "[[0 1 2]\n",
      " [3 4 5]\n",
      " [6 7 8]] \n",
      "\n",
      "[[0 1 2]\n",
      " [3 4 5]\n",
      " [6 7 8]] \n",
      "\n",
      "[ 15  54 111]\n"
     ]
    }
   ],
   "source": [
    "a = np.arange(9).reshape(3, 3)\n",
    "print(a,\"\\n\")\n",
    "\n",
    "b = np.arange(9).reshape(3, 3)\n",
    "print(b,\"\\n\")\n",
    "\n",
    "c = np.diag(a.dot(b))\n",
    "print(c) "
   ]
  },
  {
   "cell_type": "markdown",
   "metadata": {},
   "source": [
    "# 13.How to find the most frequent value in an array?"
   ]
  },
  {
   "cell_type": "code",
   "execution_count": 58,
   "metadata": {},
   "outputs": [
    {
     "name": "stdout",
     "output_type": "stream",
     "text": [
      "Array:\n",
      "[6 3 7 4 6 9 2 6 7 4 3 7 7 2 5 4 1 7 5 1]\n",
      "Most frequent value in the above array:\n",
      "7\n"
     ]
    }
   ],
   "source": [
    "import scipy.stats as st\n",
    "np.random.seed(42)\n",
    "a = np.random.randint(0, 10, 20)\n",
    "print(\"Array:\")\n",
    "print(a)\n",
    "\n",
    "print(\"Most frequent value in the above array:\")\n",
    "m,p = st.mode(a, axis=0)\n",
    "print( *m)\n"
   ]
  },
  {
   "cell_type": "markdown",
   "metadata": {},
   "source": [
    "# 14.How to get the n largest values of an array"
   ]
  },
  {
   "cell_type": "code",
   "execution_count": 59,
   "metadata": {},
   "outputs": [
    {
     "name": "stdout",
     "output_type": "stream",
     "text": [
      "Array:\n",
      "[  2   5  88  99 101  54  65  74  35  28  45]\n",
      "Maximum value is:\n",
      "[101]\n"
     ]
    }
   ],
   "source": [
    "a = np.array([2,5,88,99,101,54,65,74,35,28,45])\n",
    "print(\"Array:\")\n",
    "print(a)\n",
    "n = 1\n",
    "print(\"Maximum value is:\")\n",
    "print (a[np.argsort(a)[-n:]])"
   ]
  },
  {
   "cell_type": "markdown",
   "metadata": {},
   "source": [
    "# 15.How to create a record array from a regular array?"
   ]
  },
  {
   "cell_type": "code",
   "execution_count": 61,
   "metadata": {},
   "outputs": [
    {
     "name": "stdout",
     "output_type": "stream",
     "text": [
      "('Machine', 99, 'p')\n",
      "('Learning', 55, 'q')\n",
      "('Engineer', 11, 'r')\n"
     ]
    }
   ],
   "source": [
    "a = np.array(['Machine','Learning','Engineer'])\n",
    "b = np.array([99,55,11])\n",
    "c = np.array(['p','q','r'])\n",
    "records= np.core.records.fromarrays([a, b, c])\n",
    "print(records[0])\n",
    "print(records[1])\n",
    "print(records[2])"
   ]
  }
 ],
 "metadata": {
  "kernelspec": {
   "display_name": "Python 3",
   "language": "python",
   "name": "python3"
  },
  "language_info": {
   "codemirror_mode": {
    "name": "ipython",
    "version": 3
   },
   "file_extension": ".py",
   "mimetype": "text/x-python",
   "name": "python",
   "nbconvert_exporter": "python",
   "pygments_lexer": "ipython3",
   "version": "3.7.6"
  }
 },
 "nbformat": 4,
 "nbformat_minor": 2
}
