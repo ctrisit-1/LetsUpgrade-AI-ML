{
 "cells": [
  {
   "cell_type": "markdown",
   "metadata": {},
   "source": [
    "#  DAY 3 Assignment   `08-JULY-2020`"
   ]
  },
  {
   "cell_type": "markdown",
   "metadata": {},
   "source": [
    "#### Q1: Write a program to subtract two complex numbers in Python."
   ]
  },
  {
   "cell_type": "code",
   "execution_count": 1,
   "metadata": {},
   "outputs": [],
   "source": [
    "def complex_subtract(numa, numb):\n",
    "    return(numa-numb)"
   ]
  },
  {
   "cell_type": "code",
   "execution_count": 2,
   "metadata": {},
   "outputs": [
    {
     "name": "stdout",
     "output_type": "stream",
     "text": [
      "a = (15+10j) and b = (5+5j)\n",
      "Complex number subtraction 'a - b' gives  (10+5j)\n"
     ]
    }
   ],
   "source": [
    "a = 15+10j\n",
    "b = 5+5j\n",
    "print('a = {} and b = {}'.format(a,b))\n",
    "print(\"Complex number subtraction 'a - b' gives \", complex_subtract(a,b))"
   ]
  },
  {
   "cell_type": "markdown",
   "metadata": {},
   "source": [
    "#### Q2: Write a program to find the fourth root of a number."
   ]
  },
  {
   "cell_type": "code",
   "execution_count": 3,
   "metadata": {},
   "outputs": [],
   "source": [
    "def calc_power(numa, npower):\n",
    "    return(numa**npower)"
   ]
  },
  {
   "cell_type": "code",
   "execution_count": 22,
   "metadata": {},
   "outputs": [
    {
     "name": "stdout",
     "output_type": "stream",
     "text": [
      "4th root of  16  is  2.0\n"
     ]
    }
   ],
   "source": [
    "x = 16\n",
    "npower = 1/4\n",
    "x_fourth_root = calc_power(x,npower)\n",
    "print('4th root of ',x,' is ',x_fourth_root)"
   ]
  },
  {
   "cell_type": "markdown",
   "metadata": {},
   "source": [
    "#### Q3: Write a program to swap two numbers in Python with the help of a temporary variable."
   ]
  },
  {
   "cell_type": "code",
   "execution_count": 5,
   "metadata": {},
   "outputs": [],
   "source": [
    "def swap_two_num_1(a,b):\n",
    "    x = a\n",
    "    a = b\n",
    "    b = x\n",
    "    return(a,b)"
   ]
  },
  {
   "cell_type": "code",
   "execution_count": 6,
   "metadata": {},
   "outputs": [
    {
     "name": "stdout",
     "output_type": "stream",
     "text": [
      "Initially x = 5 and y = 10\n",
      "After swap x = 10 and y = 5\n"
     ]
    }
   ],
   "source": [
    "x = 5\n",
    "y = 10\n",
    "print('Initially x = {} and y = {}'.format(x,y))\n",
    "print('After swap x = {} and y = {}'.format(*swap_two_num_1(x,y)))"
   ]
  },
  {
   "cell_type": "markdown",
   "metadata": {},
   "source": [
    "#### Q4: Write a program to swap two numbers in Python without using a temporary variable."
   ]
  },
  {
   "cell_type": "code",
   "execution_count": 7,
   "metadata": {},
   "outputs": [],
   "source": [
    "def swap_two_num(a,b):\n",
    "    a = a + b\n",
    "    b = a - b\n",
    "    a = a - b\n",
    "    return(a,b)"
   ]
  },
  {
   "cell_type": "code",
   "execution_count": 8,
   "metadata": {},
   "outputs": [
    {
     "name": "stdout",
     "output_type": "stream",
     "text": [
      "Initially m = 100 and m = 200\n",
      "After swap m = 200 and n = 100\n"
     ]
    }
   ],
   "source": [
    "m = 100\n",
    "n = 200\n",
    "print('Initially m = {} and m = {}'.format(m,n))\n",
    "print('After swap m = {} and n = {}'.format(*swap_two_num(m,n)))"
   ]
  },
  {
   "cell_type": "markdown",
   "metadata": {},
   "source": [
    "#### Q5: Write a program to convert fahrenheit to kelvin and celsius both."
   ]
  },
  {
   "cell_type": "markdown",
   "metadata": {},
   "source": [
    "#####  <font color=green> Fahrenheit to Celcius Formula : C = (F-32)*5/9 </font>\n",
    "#####  <font color=green> Fahrenheit to Kelvin : K = 273.5 + ((F - 32.0) * (5.0/9.0)) </font>"
   ]
  },
  {
   "cell_type": "code",
   "execution_count": 9,
   "metadata": {},
   "outputs": [],
   "source": [
    "def Fahrenheit_to_Kelvin_Celsius(F): \n",
    "    k = 273.5 + ((F - 32.0) * (5.0/9.0)) \n",
    "    c = ((F-32)*5/9)\n",
    "    return(k,c)"
   ]
  },
  {
   "cell_type": "code",
   "execution_count": 10,
   "metadata": {},
   "outputs": [
    {
     "name": "stdout",
     "output_type": "stream",
     "text": [
      "Temperature in Fahrenheit ( F ) is 98.700. \n",
      " Temperature in Kelvin ( K ) = 310.556. \n",
      " Temperature in Celsius ( C ) = 37.056.\n"
     ]
    }
   ],
   "source": [
    "F = 98.7\n",
    "print(\"Temperature in Fahrenheit ( F ) is {:.3f}. \\n Temperature in Kelvin ( K ) = {:.3f}. \\n Temperature in Celsius ( C ) = {:.3f}.\" \n",
    "            .format(F,*Fahrenheit_to_Kelvin_Celsius(F))) "
   ]
  },
  {
   "cell_type": "markdown",
   "metadata": {},
   "source": [
    "####  Q6: Write a program to demonstrate all the available data types in Python."
   ]
  },
  {
   "cell_type": "markdown",
   "metadata": {},
   "source": [
    "#### Numbers"
   ]
  },
  {
   "cell_type": "code",
   "execution_count": 11,
   "metadata": {},
   "outputs": [
    {
     "name": "stdout",
     "output_type": "stream",
     "text": [
      "100 is of type <class 'int'>\n",
      "100.25 is of type <class 'float'>\n",
      "8 is of type <class 'int'>\n",
      "16 is of type <class 'int'>\n",
      "2 is of type <class 'int'>\n",
      "(100+3j) is complex number? True\n"
     ]
    }
   ],
   "source": [
    "a = 100\n",
    "print(a, \"is of type\", type(a))\n",
    "\n",
    "a = 100.25\n",
    "print(a, \"is of type\", type(a))\n",
    "\n",
    "a = 0o10\n",
    "print(a, \"is of type\", type(a))\n",
    "\n",
    "a = 0x10\n",
    "print(a, \"is of type\", type(a))\n",
    "\n",
    "a = 0b10\n",
    "print(a, \"is of type\", type(a))\n",
    "\n",
    "a = 100+3j\n",
    "print(a, \"is complex number?\", isinstance(1+2j,complex))"
   ]
  },
  {
   "cell_type": "markdown",
   "metadata": {},
   "source": [
    "##### List"
   ]
  },
  {
   "cell_type": "code",
   "execution_count": 12,
   "metadata": {},
   "outputs": [
    {
     "name": "stdout",
     "output_type": "stream",
     "text": [
      "[1, 2, 3, 'python'] is of type <class 'list'>\n"
     ]
    }
   ],
   "source": [
    "list_a = [1, 2, 3, 'python']\n",
    "print(list_a, \"is of type\", type(list_a))"
   ]
  },
  {
   "cell_type": "markdown",
   "metadata": {},
   "source": [
    "##### Tuple"
   ]
  },
  {
   "cell_type": "code",
   "execution_count": 13,
   "metadata": {},
   "outputs": [
    {
     "name": "stdout",
     "output_type": "stream",
     "text": [
      "(1, 2, 3, 4, 'python') is of type <class 'tuple'>\n"
     ]
    }
   ],
   "source": [
    "tuple_a = (1,2,3,4,'python')\n",
    "print(tuple_a, \"is of type\", type(tuple_a))"
   ]
  },
  {
   "cell_type": "markdown",
   "metadata": {},
   "source": [
    "##### String"
   ]
  },
  {
   "cell_type": "code",
   "execution_count": 14,
   "metadata": {
    "scrolled": true
   },
   "outputs": [
    {
     "name": "stdout",
     "output_type": "stream",
     "text": [
      "I am a string is of type <class 'str'>\n"
     ]
    }
   ],
   "source": [
    "s = \"I am a string\"\n",
    "print(s, \"is of type\", type(s))"
   ]
  },
  {
   "cell_type": "markdown",
   "metadata": {},
   "source": [
    "##### Boolean"
   ]
  },
  {
   "cell_type": "code",
   "execution_count": 15,
   "metadata": {
    "scrolled": true
   },
   "outputs": [
    {
     "name": "stdout",
     "output_type": "stream",
     "text": [
      "Type of boolean True is  <class 'bool'>\n",
      "Type of boolean False is  <class 'bool'>\n"
     ]
    }
   ],
   "source": [
    "print('Type of boolean True is ', type(True))\n",
    "print('Type of boolean False is ', type(False))"
   ]
  },
  {
   "cell_type": "markdown",
   "metadata": {},
   "source": [
    "##### Dictionary"
   ]
  },
  {
   "cell_type": "code",
   "execution_count": 16,
   "metadata": {},
   "outputs": [
    {
     "name": "stdout",
     "output_type": "stream",
     "text": [
      "{1: 'value', 'key': 2} is of type <class 'dict'>\n"
     ]
    }
   ],
   "source": [
    "d = {1:'value','key':2}\n",
    "print(d, \"is of type\", type(d))"
   ]
  },
  {
   "cell_type": "markdown",
   "metadata": {},
   "source": [
    "##### Set"
   ]
  },
  {
   "cell_type": "code",
   "execution_count": 17,
   "metadata": {},
   "outputs": [
    {
     "name": "stdout",
     "output_type": "stream",
     "text": [
      "{1, 2, 3, 4, 5} is of type <class 'set'>\n"
     ]
    }
   ],
   "source": [
    "a = {3,2,4,1,5}\n",
    "print(a, \"is of type\", type(a))"
   ]
  },
  {
   "cell_type": "markdown",
   "metadata": {},
   "source": [
    "#### Q7: Create a Markdown cell in jupyter and list the steps discussed in the session by Dr. DarshanIngle sir to create Github profile and upload Githubs Assignment link."
   ]
  },
  {
   "cell_type": "markdown",
   "metadata": {},
   "source": [
    "The steps to create Github profile and Github assignment link is as below:\n",
    "1. Create a github account\n",
    "2. Create a public project with the name <font color=red> letsupgrade-ai-ml </font>\n",
    "3. Create day wise folder: for example for Day 3 assignment create a folder named <font color=red> Day 3 </font>\n",
    "4. Upload the jupter notebook assignment file in the same folder\n",
    "5. Copy the link of the upload location and share the link in the Assignment submit form"
   ]
  },
  {
   "cell_type": "markdown",
   "metadata": {},
   "source": [
    "` THIS IS THE END OF THE DAY 3 ASSIGNMENT `"
   ]
  }
 ],
 "metadata": {
  "kernelspec": {
   "display_name": "Python 3",
   "language": "python",
   "name": "python3"
  },
  "language_info": {
   "codemirror_mode": {
    "name": "ipython",
    "version": 3
   },
   "file_extension": ".py",
   "mimetype": "text/x-python",
   "name": "python",
   "nbconvert_exporter": "python",
   "pygments_lexer": "ipython3",
   "version": "3.7.7"
  }
 },
 "nbformat": 4,
 "nbformat_minor": 4
}
