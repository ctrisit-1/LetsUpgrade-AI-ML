{
 "cells": [
  {
   "cell_type": "markdown",
   "metadata": {},
   "source": [
    "#  DAY 4 Assignment   `09-JULY-2020`"
   ]
  },
  {
   "cell_type": "markdown",
   "metadata": {},
   "source": [
    "### Q1: Research on whether addition, subtraction, multiplication, division, floor division and modulo operations be performed on complex numbers. Based on your study, implement a Python program to demonstrate these operations."
   ]
  },
  {
   "cell_type": "code",
   "execution_count": 6,
   "metadata": {},
   "outputs": [
    {
     "name": "stdout",
     "output_type": "stream",
     "text": [
      "Addition of two complex numbers works fine :  (14+3j)\n",
      "Subtraction of two complex numbers works fine :  (6+7j)\n",
      "Multiplication of two complex numbers works fine :  (50+0j)\n",
      "Division of two complex numbers works fine :  (1.5+2j)\n"
     ]
    }
   ],
   "source": [
    "print(\"Addition of two complex numbers works fine : \",(10+5j)+(4-2j))\n",
    "print(\"Subtraction of two complex numbers works fine : \",(10+5j)-(4-2j))\n",
    "print(\"Multiplication of two complex numbers works fine : \",(10+5j)*(4-2j))\n",
    "print(\"Division of two complex numbers works fine : \",(10+5j)/(4-2j))"
   ]
  },
  {
   "cell_type": "code",
   "execution_count": 7,
   "metadata": {},
   "outputs": [
    {
     "name": "stdout",
     "output_type": "stream",
     "text": [
      "Floor Division of Complex Number not feasible\n"
     ]
    }
   ],
   "source": [
    "try:\n",
    "    print(\"Floor Division of two complex numbers : \",(10+5j)//(4-2j))\n",
    "except:\n",
    "    print(\"Floor Division of Complex Number not feasible\")\n",
    "    "
   ]
  },
  {
   "cell_type": "code",
   "execution_count": 8,
   "metadata": {},
   "outputs": [
    {
     "name": "stdout",
     "output_type": "stream",
     "text": [
      "Modulo of Complex Number not feasible\n"
     ]
    }
   ],
   "source": [
    "try:\n",
    "    print(\"Modulo of two complex numbers : \",(10+5j)%(4-2j))\n",
    "except:\n",
    "    print(\"Modulo of Complex Number not feasible\")"
   ]
  },
  {
   "cell_type": "markdown",
   "metadata": {},
   "source": [
    "####  From above we can conclude that addition, subtraction, multiplication, division is possible. However, floor division and modulo will throw error (that is why handled above with try-except block.) "
   ]
  },
  {
   "cell_type": "markdown",
   "metadata": {},
   "source": [
    "<br>"
   ]
  },
  {
   "cell_type": "markdown",
   "metadata": {},
   "source": [
    "### Q2: Research on range() functions and its parameters. Create a markdown cell and write in your own words (no copy-paste from google please) what you understand about it. Implement a small program of your choice on the same."
   ]
  },
  {
   "cell_type": "markdown",
   "metadata": {},
   "source": [
    "1. The `range()` function is used to generate a sequence of numbers over time. \n",
    "2. Basically, it accepts an integer and returns a range object (a type of iterable). \n",
    "3. The syntax of the `range()` function is as follows:\n",
    "`range(start,stop,step)`\n",
    "    - `start` : The value of the start parameter (or 0 if the parameter was not supplied)\n",
    "    - `stop` : The value of the stop parameter where the sequence ends. This item will not be included in the sequence.\n",
    "    - `step` : The value of the step parameter (or 1 if the parameter was not supplied)\n",
    "4. The `range()` function is commonly used with for loop to repeat an action certain number of times."
   ]
  },
  {
   "cell_type": "code",
   "execution_count": 37,
   "metadata": {},
   "outputs": [
    {
     "name": "stdout",
     "output_type": "stream",
     "text": [
      "[1, 3, 5, 7, 9, 11, 13, 15, 17, 19, 21, 23, 25, 27, 29, 31, 33, 35, 37, 39, 41, 43, 45, 47, 49, 51, 53, 55, 57, 59, 61, 63, 65, 67, 69, 71, 73, 75, 77, 79, 81, 83, 85, 87, 89, 91, 93, 95, 97, 99]\n"
     ]
    }
   ],
   "source": [
    "# Example code to show the usage of range() function\n",
    "odd_list = []\n",
    "for i in range(1,100,2):\n",
    "    odd_list.append(i)\n",
    "print(odd_list)"
   ]
  },
  {
   "cell_type": "markdown",
   "metadata": {},
   "source": [
    "### Q3: Consider two numbers. Perform their subtraction and if the result of subtraction is greater than 25, print their multiplication result else print their division result."
   ]
  },
  {
   "cell_type": "code",
   "execution_count": 40,
   "metadata": {},
   "outputs": [
    {
     "name": "stdout",
     "output_type": "stream",
     "text": [
      "a = 50 and b = 20 and (a - b) = 30\n",
      "a multiplied by b is 1000\n"
     ]
    }
   ],
   "source": [
    "a = 50\n",
    "b = 20\n",
    "print('a = {} and b = {} and (a - b) = {}'.format(a,b,(a-b)))\n",
    "if (a-b)>25:\n",
    "    print('a multiplied by b is {}'.format(a*b))\n",
    "else:\n",
    "    print('a divided by b is {:.2f}'.format(a/b))"
   ]
  },
  {
   "cell_type": "markdown",
   "metadata": {},
   "source": [
    "### Q4: Consider a list of 10 elements of integer values. If the number in the list is divisible by 2, print the result as \"square of that number minus 2\"."
   ]
  },
  {
   "cell_type": "code",
   "execution_count": 53,
   "metadata": {},
   "outputs": [
    {
     "name": "stdout",
     "output_type": "stream",
     "text": [
      "Square of '4 - 2' is 4.\n",
      "Square of '12 - 2' is 100.\n",
      "Square of '22 - 2' is 400.\n",
      "Square of '102 - 2' is 10000.\n"
     ]
    }
   ],
   "source": [
    "list_a = [4,21,45,65,12,333,22,11,99,102]\n",
    "for i in list_a:\n",
    "    if i%2 == 0:\n",
    "        print(\"Square of '{} - 2' is {}.\".format(i,(i-2)**2))"
   ]
  },
  {
   "cell_type": "markdown",
   "metadata": {},
   "source": [
    "### Q5: Consider a list of 10 elements. Print all the elements in the list which are greater than 7 when that number is divided 2."
   ]
  },
  {
   "cell_type": "code",
   "execution_count": 55,
   "metadata": {},
   "outputs": [
    {
     "name": "stdout",
     "output_type": "stream",
     "text": [
      "The number '22' is divided by 2 and greater than 7.\n",
      "The number '52' is divided by 2 and greater than 7.\n",
      "The number '102' is divided by 2 and greater than 7.\n"
     ]
    }
   ],
   "source": [
    "list_a = [7,4,2,6,22,333,52,11,199,102]\n",
    "for i in list_a:\n",
    "    if i%2 == 0:\n",
    "        if i > 7:\n",
    "            print(\"The number '{}' is divided by 2 and greater than 7.\".format(i))"
   ]
  },
  {
   "cell_type": "markdown",
   "metadata": {},
   "source": [
    "` THIS IS THE END OF THE DAY 4 ASSIGNMENT `"
   ]
  }
 ],
 "metadata": {
  "kernelspec": {
   "display_name": "Python 3",
   "language": "python",
   "name": "python3"
  },
  "language_info": {
   "codemirror_mode": {
    "name": "ipython",
    "version": 3
   },
   "file_extension": ".py",
   "mimetype": "text/x-python",
   "name": "python",
   "nbconvert_exporter": "python",
   "pygments_lexer": "ipython3",
   "version": "3.7.7"
  }
 },
 "nbformat": 4,
 "nbformat_minor": 4
}
