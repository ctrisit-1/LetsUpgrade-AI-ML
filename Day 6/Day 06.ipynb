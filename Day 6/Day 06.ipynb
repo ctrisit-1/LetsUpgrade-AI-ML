{
 "cells": [
  {
   "cell_type": "markdown",
   "metadata": {},
   "source": [
    "#  DAY 6 Assignment   `14-JULY-2020`"
   ]
  },
  {
   "cell_type": "markdown",
   "metadata": {},
   "source": [
    "### Q1: Assuming that we have some email addresses in the \"username@companyname.com\" format, please write program to print the company name of a given email address. Both user names and company names are composed of letters only."
   ]
  },
  {
   "cell_type": "code",
   "execution_count": 1,
   "metadata": {},
   "outputs": [],
   "source": [
    "def extract_company(mail):\n",
    "    company = str()\n",
    "    flag = False\n",
    "    for s in mail:\n",
    "        if s == \"@\" and flag == False:\n",
    "            flag = True\n",
    "            continue\n",
    "        if (flag == True):\n",
    "            if s == \".\":\n",
    "                flag = False\n",
    "            else:\n",
    "                company = company + s\n",
    "                \n",
    "    return(company)"
   ]
  },
  {
   "cell_type": "code",
   "execution_count": 2,
   "metadata": {},
   "outputs": [
    {
     "name": "stdout",
     "output_type": "stream",
     "text": [
      "apple\n",
      "suzuki\n"
     ]
    }
   ],
   "source": [
    "mail_id_1 = \"abcd@apple.com\"\n",
    "mail_id_2 = \"mnop@suzuki.com\"\n",
    " \n",
    "print(extract_company(mail_id_1))\n",
    "print(extract_company(mail_id_2))"
   ]
  },
  {
   "cell_type": "markdown",
   "metadata": {},
   "source": [
    "### Q2: Write a program that accepts a comma-separated sequence of words as input and prints the words in a comma separated sequence after sorting them alphabetically."
   ]
  },
  {
   "cell_type": "code",
   "execution_count": 3,
   "metadata": {},
   "outputs": [],
   "source": [
    "def sort_string(s):\n",
    "    str_list_sep = s.split(\",\")\n",
    "    sorted_list = sorted(str_list_sep)\n",
    "    final = \",\".join(sorted_list)\n",
    "    return final\n"
   ]
  },
  {
   "cell_type": "code",
   "execution_count": 4,
   "metadata": {},
   "outputs": [
    {
     "name": "stdout",
     "output_type": "stream",
     "text": [
      "bag,hello,without,world\n"
     ]
    }
   ],
   "source": [
    "str_list= \"without,hello,bag,world\"\n",
    "\n",
    "print(sort_string(str_list))\n"
   ]
  },
  {
   "cell_type": "markdown",
   "metadata": {},
   "source": [
    "## Q3: Create your own Jupyter Notebook for Sets. Reference link: https://www.w3schools.com/python/python_sets.asp"
   ]
  },
  {
   "cell_type": "markdown",
   "metadata": {},
   "source": [
    "## Sets in Python"
   ]
  },
  {
   "cell_type": "markdown",
   "metadata": {},
   "source": [
    "## 1. What are sets?"
   ]
  },
  {
   "cell_type": "markdown",
   "metadata": {},
   "source": [
    "A set contains an unordered collection of unique (no duplicates) and immutable objects (which cannot be changed)."
   ]
  },
  {
   "cell_type": "markdown",
   "metadata": {},
   "source": [
    "## 2. Why sets?"
   ]
  },
  {
   "cell_type": "markdown",
   "metadata": {},
   "source": [
    "Inmagine you have a box of a variety of fruits. You want to find out what are the types of fruits you have in this box. You write down the type of fruit on a paper as you take each fruit out of the box. The fruit names on the paper constitute a set. Why is it a set? First, you do not care about the order of fruits names - 'unordered'. Second, if there are ten strawberries in that box, you would only write down strawberry once - 'unique'. Third, you cannot change strawberry to cranberry - 'immutable'."
   ]
  },
  {
   "cell_type": "markdown",
   "metadata": {},
   "source": [
    "## 3. Python set operations"
   ]
  },
  {
   "cell_type": "markdown",
   "metadata": {},
   "source": [
    "### 3.1 Union "
   ]
  },
  {
   "cell_type": "markdown",
   "metadata": {},
   "source": [
    "Andrew bought a box of fruits and he wrote down the types of fruits he had in his box. They are apple, watermelon, strawberry, pineapple, peach. On his way home, Andrew met Peter who also bought a box of fruits and the fruits in his box are orange, mango, apple, strawberry, peach, grape.\n",
    "\n",
    "Andrew asked Peter: \"Peter, what are all the types of fruits we have together?\"\n",
    "\n",
    "Peter said: \"Let's use union to find out.\""
   ]
  },
  {
   "cell_type": "code",
   "execution_count": 5,
   "metadata": {},
   "outputs": [
    {
     "data": {
      "text/plain": [
       "{'apple',\n",
       " 'grape',\n",
       " 'mango',\n",
       " 'orange',\n",
       " 'peach',\n",
       " 'pineapple',\n",
       " 'strawberry',\n",
       " 'watermelon'}"
      ]
     },
     "execution_count": 5,
     "metadata": {},
     "output_type": "execute_result"
    }
   ],
   "source": [
    "Andrew_Fruits = {'apple', 'watermelon', 'strawberry', 'pineapple', 'peach'}\n",
    "Peter_Fruits = {'orange', 'mango', 'apple', 'strawberry', 'peach', 'grape'}\n",
    "Andrew_Fruits.union(Peter_Fruits)"
   ]
  },
  {
   "cell_type": "markdown",
   "metadata": {},
   "source": [
    "Andrew: \"Together, we have apple, grape, mango, orange, peach, pineapple, strawberry, and watermelon.\""
   ]
  },
  {
   "cell_type": "markdown",
   "metadata": {},
   "source": [
    "### 3.2 Intersection"
   ]
  },
  {
   "cell_type": "markdown",
   "metadata": {},
   "source": [
    "Peter asked Andrew: \"What are the types of fruits we both have?\" \n",
    "\n",
    "Andrew: \"Let's use intersection to find out.\""
   ]
  },
  {
   "cell_type": "code",
   "execution_count": 6,
   "metadata": {},
   "outputs": [
    {
     "data": {
      "text/plain": [
       "{'apple', 'peach', 'strawberry'}"
      ]
     },
     "execution_count": 6,
     "metadata": {},
     "output_type": "execute_result"
    }
   ],
   "source": [
    "Andrew_Fruits.intersection(Peter_Fruits)"
   ]
  },
  {
   "cell_type": "markdown",
   "metadata": {},
   "source": [
    "Andrew: \"The types of fruits we both have are apple, peach, and strawberry.\""
   ]
  },
  {
   "cell_type": "markdown",
   "metadata": {},
   "source": [
    "### 3.3 In and not in"
   ]
  },
  {
   "cell_type": "markdown",
   "metadata": {},
   "source": [
    "#### 3.3.1 In"
   ]
  },
  {
   "cell_type": "markdown",
   "metadata": {},
   "source": [
    "Andrew asked Peter: \"Did you buy orange?\"\n",
    "\n",
    "Peter: It's easy. \"Let's use in to find out.\""
   ]
  },
  {
   "cell_type": "code",
   "execution_count": 7,
   "metadata": {},
   "outputs": [
    {
     "data": {
      "text/plain": [
       "True"
      ]
     },
     "execution_count": 7,
     "metadata": {},
     "output_type": "execute_result"
    }
   ],
   "source": [
    "'orange' in Peter_Fruits"
   ]
  },
  {
   "cell_type": "markdown",
   "metadata": {},
   "source": [
    "Peter: \"I bought orange.\""
   ]
  },
  {
   "cell_type": "markdown",
   "metadata": {},
   "source": [
    "#### 3.3.2 Not in"
   ]
  },
  {
   "cell_type": "markdown",
   "metadata": {},
   "source": [
    "Andrew asked Peter: \"Did you buy banana?\"\n",
    "\n",
    "Peter: \"It's easy. Let's use not in to find out.\""
   ]
  },
  {
   "cell_type": "code",
   "execution_count": 8,
   "metadata": {},
   "outputs": [
    {
     "data": {
      "text/plain": [
       "True"
      ]
     },
     "execution_count": 8,
     "metadata": {},
     "output_type": "execute_result"
    }
   ],
   "source": [
    "'banana' not in Peter_Fruits"
   ]
  },
  {
   "cell_type": "markdown",
   "metadata": {},
   "source": [
    "Peter: \"I did not buy banana.\""
   ]
  },
  {
   "cell_type": "markdown",
   "metadata": {},
   "source": [
    "<br>\n",
    "<br>"
   ]
  },
  {
   "cell_type": "markdown",
   "metadata": {},
   "source": [
    "### Q4: Given a list of n-1 numbers ranging from 1 to n, your task is to find the missing number. There are no duplicates."
   ]
  },
  {
   "cell_type": "code",
   "execution_count": 9,
   "metadata": {},
   "outputs": [],
   "source": [
    "def missing_no(L):\n",
    "    n = max(L)\n",
    "    m = min(L) - 1\n",
    "    sum_1 = n*(n+1)/2 # sum of 1 to len(L)\n",
    "    sum_2 = m*(m+1)/2 # sum of 1 to one element prior to starting element of the list\n",
    "    total = sum_1 - sum_2 # sum of elements if there was no missing element\n",
    "    sum_L = sum(L) # sum of elements of the received list\n",
    "    missing = total - sum_L # missing element\n",
    "    return int(missing)"
   ]
  },
  {
   "cell_type": "code",
   "execution_count": 10,
   "metadata": {},
   "outputs": [
    {
     "name": "stdout",
     "output_type": "stream",
     "text": [
      "5\n"
     ]
    }
   ],
   "source": [
    "# Test 1\n",
    "L1 = [1,2,3,4,6,7] # Here the missing element is 5\n",
    " \n",
    "print(missing_no(L1))"
   ]
  },
  {
   "cell_type": "code",
   "execution_count": 11,
   "metadata": {},
   "outputs": [
    {
     "name": "stdout",
     "output_type": "stream",
     "text": [
      "13\n"
     ]
    }
   ],
   "source": [
    "# Test 1\n",
    "L2 =  [11,12,14,15,16] # Here the missing element is 13\n",
    "print(missing_no(L2))"
   ]
  },
  {
   "cell_type": "markdown",
   "metadata": {},
   "source": [
    "### Q5: With a given list L, write a program to print this list L after removing all duplicate values with original order reserved."
   ]
  },
  {
   "cell_type": "code",
   "execution_count": 12,
   "metadata": {},
   "outputs": [],
   "source": [
    "def remove_dup(L):\n",
    "    return [i for n, i in enumerate(L) if i not in L[:n]]"
   ]
  },
  {
   "cell_type": "code",
   "execution_count": 13,
   "metadata": {},
   "outputs": [
    {
     "name": "stdout",
     "output_type": "stream",
     "text": [
      "The original list is : [9, 1, 2, 2, 3, 4, 5, 5, 6, 7, 8, 6, 7, 8]\n",
      "The list after removing duplicates : [9, 1, 2, 3, 4, 5, 6, 7, 8]\n"
     ]
    }
   ],
   "source": [
    "test_list = [9,1,2,2,3,4,5,5,6,7,8,6,7,8] \n",
    "print (\"The original list is : \" +  str(test_list))\n",
    "\n",
    "# printing list after removal  \n",
    "print (\"The list after removing duplicates : \" + str(remove_dup(test_list)))"
   ]
  },
  {
   "cell_type": "markdown",
   "metadata": {},
   "source": [
    "` THIS IS THE END OF THE DAY 6 ASSIGNMENT `"
   ]
  }
 ],
 "metadata": {
  "kernelspec": {
   "display_name": "Python 3",
   "language": "python",
   "name": "python3"
  },
  "language_info": {
   "codemirror_mode": {
    "name": "ipython",
    "version": 3
   },
   "file_extension": ".py",
   "mimetype": "text/x-python",
   "name": "python",
   "nbconvert_exporter": "python",
   "pygments_lexer": "ipython3",
   "version": "3.7.6"
  }
 },
 "nbformat": 4,
 "nbformat_minor": 4
}
